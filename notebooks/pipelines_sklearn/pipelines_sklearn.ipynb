{
 "cells": [
  {
   "cell_type": "markdown",
   "metadata": {},
   "source": [
    "# Install Dependencies"
   ]
  },
  {
   "cell_type": "code",
   "execution_count": null,
   "metadata": {
    "execution": {
     "iopub.execute_input": "2024-01-15T13:46:42.340928Z",
     "iopub.status.busy": "2024-01-15T13:46:42.339896Z",
     "iopub.status.idle": "2024-01-15T13:47:06.531491Z",
     "shell.execute_reply": "2024-01-15T13:47:06.530518Z",
     "shell.execute_reply.started": "2024-01-15T13:46:42.340899Z"
    }
   },
   "outputs": [],
   "source": [
    "%pip install --upgrade pip pandas scikit-learn scipy"
   ]
  },
  {
   "cell_type": "markdown",
   "metadata": {},
   "source": [
    "# Import Libraries"
   ]
  },
  {
   "cell_type": "code",
   "execution_count": null,
   "metadata": {
    "execution": {
     "iopub.execute_input": "2024-01-15T13:47:06.534015Z",
     "iopub.status.busy": "2024-01-15T13:47:06.533340Z",
     "iopub.status.idle": "2024-01-15T13:47:07.514360Z",
     "shell.execute_reply": "2024-01-15T13:47:07.513493Z",
     "shell.execute_reply.started": "2024-01-15T13:47:06.533982Z"
    }
   },
   "outputs": [],
   "source": [
    "import pickle\n",
    "import pandas as pd\n",
    "import numpy as np\n",
    "\n",
    "from scipy.stats import randint, uniform\n",
    "from sklearn.base import BaseEstimator, TransformerMixin\n",
    "from sklearn.compose import ColumnTransformer, make_column_selector\n",
    "from sklearn.ensemble import GradientBoostingClassifier, RandomForestClassifier\n",
    "from sklearn.impute import SimpleImputer\n",
    "from sklearn.model_selection import RandomizedSearchCV, train_test_split\n",
    "from sklearn.pipeline import Pipeline\n",
    "from sklearn.preprocessing import StandardScaler, OneHotEncoder\n"
   ]
  },
  {
   "cell_type": "code",
   "execution_count": null,
   "metadata": {
    "execution": {
     "iopub.execute_input": "2024-01-15T13:47:07.515873Z",
     "iopub.status.busy": "2024-01-15T13:47:07.515548Z",
     "iopub.status.idle": "2024-01-15T13:47:07.519952Z",
     "shell.execute_reply": "2024-01-15T13:47:07.518883Z",
     "shell.execute_reply.started": "2024-01-15T13:47:07.515849Z"
    }
   },
   "outputs": [],
   "source": [
    "RANDOM_STATE = 22"
   ]
  },
  {
   "cell_type": "markdown",
   "metadata": {},
   "source": [
    "# Load Data"
   ]
  },
  {
   "cell_type": "code",
   "execution_count": null,
   "metadata": {
    "execution": {
     "iopub.execute_input": "2024-01-15T13:47:07.522071Z",
     "iopub.status.busy": "2024-01-15T13:47:07.521825Z",
     "iopub.status.idle": "2024-01-15T13:47:07.565818Z",
     "shell.execute_reply": "2024-01-15T13:47:07.564896Z",
     "shell.execute_reply.started": "2024-01-15T13:47:07.522047Z"
    }
   },
   "outputs": [],
   "source": [
    "dataset_df = pd.read_csv('../kaggle/datasets/spaceship-titanic/train.csv')\n",
    "print('Train dataset shape:', dataset_df.shape)"
   ]
  },
  {
   "cell_type": "code",
   "execution_count": null,
   "metadata": {
    "execution": {
     "iopub.execute_input": "2024-01-15T13:47:07.567612Z",
     "iopub.status.busy": "2024-01-15T13:47:07.567368Z",
     "iopub.status.idle": "2024-01-15T13:47:07.573855Z",
     "shell.execute_reply": "2024-01-15T13:47:07.572873Z",
     "shell.execute_reply.started": "2024-01-15T13:47:07.567587Z"
    }
   },
   "outputs": [],
   "source": [
    "# Extract the target variable\n",
    "y = dataset_df['Transported']\n",
    "X = dataset_df.drop(['Transported'], axis=1)"
   ]
  },
  {
   "cell_type": "code",
   "execution_count": null,
   "metadata": {
    "execution": {
     "iopub.execute_input": "2024-01-15T13:47:07.575223Z",
     "iopub.status.busy": "2024-01-15T13:47:07.574930Z",
     "iopub.status.idle": "2024-01-15T13:47:07.584715Z",
     "shell.execute_reply": "2024-01-15T13:47:07.583906Z",
     "shell.execute_reply.started": "2024-01-15T13:47:07.575197Z"
    }
   },
   "outputs": [],
   "source": [
    "# Split the dataset into train and test\n",
    "X_train, X_test, y_train, y_test = train_test_split(X, y, test_size=0.2, random_state=RANDOM_STATE)"
   ]
  },
  {
   "cell_type": "markdown",
   "metadata": {},
   "source": [
    "The data is also available in the [Kaggle Spaceship Titanic competition](https://www.kaggle.com/competitions/spaceship-titanic/data)."
   ]
  },
  {
   "cell_type": "markdown",
   "metadata": {},
   "source": [
    "# Exploritory Data Analysis"
   ]
  },
  {
   "cell_type": "markdown",
   "metadata": {},
   "source": [
    "**train.csv** - Personal records for about two-thirds (~8700) of the passengers, to be used as training data.\n",
    "- `PassengerId` - A unique Id for each passenger. Each Id takes the form `gggg_pp` where `gggg` indicates a group the passenger is travelling with and pp is their number within the group. People in a group are often family members, but not always.\n",
    "- `HomePlanet` - The planet the passenger departed from, typically their planet of permanent residence.\n",
    "- `CryoSleep` - Indicates whether the passenger elected to be put into suspended animation for the duration of the voyage. Passengers in cryosleep are confined to their cabins.\n",
    "- `Cabin` - The cabin number where the passenger is staying. Takes the form `deck/num/side`, where side can be either P for Port or S for Starboard.\n",
    "- `Destination` - The planet the passenger will be debarking to.\n",
    "- `Age` - The age of the passenger.\n",
    "- `VIP` - Whether the passenger has paid for special VIP service during the voyage.\n",
    "- `RoomService`, `FoodCourt`, `ShoppingMall`, `Spa`, `VRDeck` - Amount the passenger has billed at each of the Spaceship Titanic's many luxury amenities.\n",
    "- `Name` - The first and last names of the passenger.\n",
    "- `Transported` - Whether the passenger was transported to another dimension. This is the target, the column you are trying to predict.\n",
    "\n",
    "**test.csv** - Personal records for the remaining one-third (~4300) of the passengers, to be used as test data. Your task is to predict the value of Transported for the passengers in this set.\n",
    "\n",
    "**sample_submission.csv** - A submission file in the correct format.\n",
    "- `PassengerId` - Id for each passenger in the test set.\n",
    "- `Transported` - The target. For each passenger, predict either True or False."
   ]
  },
  {
   "cell_type": "code",
   "execution_count": null,
   "metadata": {
    "execution": {
     "iopub.execute_input": "2024-01-15T13:47:07.585973Z",
     "iopub.status.busy": "2024-01-15T13:47:07.585719Z",
     "iopub.status.idle": "2024-01-15T13:47:07.599151Z",
     "shell.execute_reply": "2024-01-15T13:47:07.598184Z",
     "shell.execute_reply.started": "2024-01-15T13:47:07.585947Z"
    }
   },
   "outputs": [],
   "source": [
    "dataset_df.info()"
   ]
  },
  {
   "cell_type": "code",
   "execution_count": null,
   "metadata": {
    "execution": {
     "iopub.execute_input": "2024-01-15T13:47:07.600511Z",
     "iopub.status.busy": "2024-01-15T13:47:07.600246Z",
     "iopub.status.idle": "2024-01-15T13:47:07.620303Z",
     "shell.execute_reply": "2024-01-15T13:47:07.619504Z",
     "shell.execute_reply.started": "2024-01-15T13:47:07.600485Z"
    }
   },
   "outputs": [],
   "source": [
    "dataset_df.head()"
   ]
  },
  {
   "cell_type": "markdown",
   "metadata": {},
   "source": [
    "Looking at the data in combination with the description, we can see that the data is a mix of categorical and numerical data. The categorical data is `PassengerId`, `HomePlanet`, `CryoSleep`, `Cabin`, `Destination`, `VIP`, `Name`, and `Transported`. The numerical data is `Age`, `RoomService`, `FoodCourt`, `ShoppingMall`, `Spa`, and `VRDeck`.\n",
    "\n",
    "The description reveals further information which is not immediately obvious and can be used to engineer new features. The `PassengerId` is a unique identifier for each passenger, but it is also a group identifier. The `Cabin` column contains information about the deck, room number, and side of the ship."
   ]
  },
  {
   "cell_type": "code",
   "execution_count": null,
   "metadata": {
    "execution": {
     "iopub.execute_input": "2024-01-15T13:47:07.621599Z",
     "iopub.status.busy": "2024-01-15T13:47:07.621367Z",
     "iopub.status.idle": "2024-01-15T13:47:07.647938Z",
     "shell.execute_reply": "2024-01-15T13:47:07.647081Z",
     "shell.execute_reply.started": "2024-01-15T13:47:07.621575Z"
    }
   },
   "outputs": [],
   "source": [
    "dataset_df.describe()"
   ]
  },
  {
   "cell_type": "markdown",
   "metadata": {},
   "source": [
    "The descriptive statistics reveal that the most of the passengers are in their 20s and 30s, with a mean age of 28.82. Half of the passengers do not have any charges for the amenities. "
   ]
  },
  {
   "cell_type": "code",
   "execution_count": null,
   "metadata": {
    "execution": {
     "iopub.execute_input": "2024-01-15T13:47:07.651419Z",
     "iopub.status.busy": "2024-01-15T13:47:07.651146Z",
     "iopub.status.idle": "2024-01-15T13:47:07.661033Z",
     "shell.execute_reply": "2024-01-15T13:47:07.660138Z",
     "shell.execute_reply.started": "2024-01-15T13:47:07.651394Z"
    }
   },
   "outputs": [],
   "source": [
    "# Check for missing values\n",
    "dataset_df.isnull().sum()"
   ]
  },
  {
   "cell_type": "markdown",
   "metadata": {},
   "source": [
    "All columns have around 200 missing values (except for the `PassengerId` and the Target `Transported`) which is around 2% of the total dataset."
   ]
  },
  {
   "cell_type": "code",
   "execution_count": null,
   "metadata": {
    "execution": {
     "iopub.execute_input": "2024-01-15T13:47:07.662502Z",
     "iopub.status.busy": "2024-01-15T13:47:07.662254Z",
     "iopub.status.idle": "2024-01-15T13:47:07.672445Z",
     "shell.execute_reply": "2024-01-15T13:47:07.671402Z",
     "shell.execute_reply.started": "2024-01-15T13:47:07.662476Z"
    }
   },
   "outputs": [],
   "source": [
    "# Check rows without any missing values\n",
    "dataset_df.dropna().shape"
   ]
  },
  {
   "cell_type": "markdown",
   "metadata": {},
   "source": [
    "If we drop the rows with missing values, we will lose around 25% of the data. This is a significant amount of data to lose, so we will need to impute the missing values. It tells us that the missing values are spread across the dataset and not concentrated in a few rows."
   ]
  },
  {
   "cell_type": "markdown",
   "metadata": {},
   "source": [
    "# Custom Preprocessing"
   ]
  },
  {
   "cell_type": "markdown",
   "metadata": {},
   "source": [
    "While sci-kit learn has a lot of preprocessing tools, some of the preprocessing steps are too specific to the dataset to be included in the library. For example, the `Cabin` column contains information about the deck, room number, and side of the ship. We can extract this information and create new features."
   ]
  },
  {
   "cell_type": "code",
   "execution_count": null,
   "metadata": {
    "execution": {
     "iopub.execute_input": "2024-01-15T13:47:07.673725Z",
     "iopub.status.busy": "2024-01-15T13:47:07.673480Z",
     "iopub.status.idle": "2024-01-15T13:47:07.679498Z",
     "shell.execute_reply": "2024-01-15T13:47:07.678668Z",
     "shell.execute_reply.started": "2024-01-15T13:47:07.673700Z"
    }
   },
   "outputs": [],
   "source": [
    "class PassengerIdSplitter(BaseEstimator, TransformerMixin):\n",
    "    \"\"\"Split the PassengerId into Group and Number\"\"\"\n",
    "    \n",
    "    def fit(self, X: pd.DataFrame, y=None):\n",
    "        return self\n",
    "\n",
    "    def transform(self, X: pd.DataFrame):\n",
    "        # Split the PassengerId into Group and Number\n",
    "        X['Group'] = X['PassengerId'].str.split('_').str[0]\n",
    "        X['Number'] = X['PassengerId'].str.split('_').str[1]\n",
    "        # Drop the original column\n",
    "        return X.drop(['PassengerId'], axis=1)\n",
    "        "
   ]
  },
  {
   "cell_type": "code",
   "execution_count": null,
   "metadata": {
    "execution": {
     "iopub.execute_input": "2024-01-15T13:47:07.680790Z",
     "iopub.status.busy": "2024-01-15T13:47:07.680557Z",
     "iopub.status.idle": "2024-01-15T13:47:07.686895Z",
     "shell.execute_reply": "2024-01-15T13:47:07.685898Z",
     "shell.execute_reply.started": "2024-01-15T13:47:07.680766Z"
    }
   },
   "outputs": [],
   "source": [
    "class CabinSplitter(BaseEstimator, TransformerMixin):\n",
    "    \"\"\"Split the Cabin into Deck and Room\"\"\"\n",
    "    \n",
    "    def fit(self, X: pd.DataFrame, y=None):\n",
    "        return self\n",
    "    \n",
    "    def transform(self, X: pd.DataFrame):\n",
    "        # Split the Cabin into Deck, Room and Side (port or starboard)\n",
    "        X['Deck'] = X['Cabin'].str.split('/').str[0]\n",
    "        X['Room'] = X['Cabin'].str.split('/').str[1].astype(int) # treat as numerical to avoid high cardinality\n",
    "        X['Side'] = X['Cabin'].str.split('/').str[2]\n",
    "        # Drop the original column\n",
    "        return X.drop(['Cabin'], axis=1)"
   ]
  },
  {
   "cell_type": "code",
   "execution_count": null,
   "metadata": {
    "execution": {
     "iopub.execute_input": "2024-01-15T13:47:07.687956Z",
     "iopub.status.busy": "2024-01-15T13:47:07.687707Z",
     "iopub.status.idle": "2024-01-15T13:47:07.693355Z",
     "shell.execute_reply": "2024-01-15T13:47:07.692467Z",
     "shell.execute_reply.started": "2024-01-15T13:47:07.687931Z"
    }
   },
   "outputs": [],
   "source": [
    "class ColumnDropper(BaseEstimator, TransformerMixin):\n",
    "    \"\"\"Drop the specified columns\"\"\"\n",
    "\n",
    "    def __init__(self, columns):\n",
    "        self.columns = columns\n",
    "\n",
    "    def fit(self, X: pd.DataFrame, y=None):\n",
    "        return self\n",
    "\n",
    "    def transform(self, X: pd.DataFrame):\n",
    "        # Drop the specified columns\n",
    "        return X.drop(self.columns, axis=1)"
   ]
  },
  {
   "cell_type": "markdown",
   "metadata": {},
   "source": [
    "# Column Transformer"
   ]
  },
  {
   "cell_type": "markdown",
   "metadata": {},
   "source": [
    "Now that we have our custom preprocessing steps, we can create a column transformer. This will allow us to apply different preprocessing steps to different columns based on their data type.\n",
    "\n",
    "First, we will create a pipeline for the numerical data. We will use the `SimpleImputer` to impute the missing values with the median. Then we will use the `StandardScaler` to scale the data."
   ]
  },
  {
   "cell_type": "code",
   "execution_count": null,
   "metadata": {
    "execution": {
     "iopub.execute_input": "2024-01-15T13:47:07.694513Z",
     "iopub.status.busy": "2024-01-15T13:47:07.694275Z",
     "iopub.status.idle": "2024-01-15T13:47:07.698948Z",
     "shell.execute_reply": "2024-01-15T13:47:07.698162Z",
     "shell.execute_reply.started": "2024-01-15T13:47:07.694487Z"
    }
   },
   "outputs": [],
   "source": [
    "numerical_preprocessor = Pipeline([\n",
    "    ('imputer', SimpleImputer(strategy='median')),\n",
    "    ('scaler', StandardScaler())\n",
    "])"
   ]
  },
  {
   "cell_type": "markdown",
   "metadata": {},
   "source": [
    "Next, we will create a pipeline for the categorical data. We will use the `SimpleImputer` to impute the missing values with the most frequent value. Then we will use the `OneHotEncoder` to encode the categorical data. We will use the `handle_unknown='ignore'` parameter to ignore unknown categories in the test set and the `sparse=False` parameter to return a full array instead of a sparse matrix."
   ]
  },
  {
   "cell_type": "code",
   "execution_count": null,
   "metadata": {
    "execution": {
     "iopub.execute_input": "2024-01-15T13:47:07.700306Z",
     "iopub.status.busy": "2024-01-15T13:47:07.700062Z",
     "iopub.status.idle": "2024-01-15T13:47:07.704041Z",
     "shell.execute_reply": "2024-01-15T13:47:07.703243Z",
     "shell.execute_reply.started": "2024-01-15T13:47:07.700282Z"
    }
   },
   "outputs": [],
   "source": [
    "categorical_preprocessor = Pipeline([\n",
    "    ('onehot', OneHotEncoder(sparse_output=False, handle_unknown='ignore'))\n",
    "])"
   ]
  },
  {
   "cell_type": "markdown",
   "metadata": {},
   "source": [
    "\n",
    "Finally, we will combine the two pipelines using the `ColumnTransformer`. Here we can use the `make_column_selector` to select the columns we want to apply the specific pipeline to. This works because we kept all numerical columns which represent categorical data as strings."
   ]
  },
  {
   "cell_type": "code",
   "execution_count": null,
   "metadata": {
    "execution": {
     "iopub.execute_input": "2024-01-15T13:47:07.705075Z",
     "iopub.status.busy": "2024-01-15T13:47:07.704858Z",
     "iopub.status.idle": "2024-01-15T13:47:07.709962Z",
     "shell.execute_reply": "2024-01-15T13:47:07.708955Z",
     "shell.execute_reply.started": "2024-01-15T13:47:07.705052Z"
    }
   },
   "outputs": [],
   "source": [
    "column_transformer = ColumnTransformer([\n",
    "    ('numerical_preprocessing', numerical_preprocessor, make_column_selector(dtype_include=np.number)),\n",
    "    ('categorical_preprocessing', categorical_preprocessor, make_column_selector(dtype_include=object))\n",
    "])"
   ]
  },
  {
   "cell_type": "markdown",
   "metadata": {},
   "source": [
    "# Creating a Baseline Model"
   ]
  },
  {
   "cell_type": "markdown",
   "metadata": {},
   "source": [
    "Now that we have our data preprocessing steps, we can create a baseline model. We will use the Random Forest Classifier with default hyperparameters as our baseline model."
   ]
  },
  {
   "cell_type": "code",
   "execution_count": null,
   "metadata": {
    "execution": {
     "iopub.execute_input": "2024-01-15T13:47:07.711200Z",
     "iopub.status.busy": "2024-01-15T13:47:07.710962Z",
     "iopub.status.idle": "2024-01-15T13:47:07.716475Z",
     "shell.execute_reply": "2024-01-15T13:47:07.715345Z",
     "shell.execute_reply.started": "2024-01-15T13:47:07.711175Z"
    }
   },
   "outputs": [],
   "source": [
    "pipeline = Pipeline([\n",
    "    ('column_dropper', ColumnDropper(columns=['Name'])),\n",
    "    ('column_transformer', column_transformer),\n",
    "    ('classifier', RandomForestClassifier(random_state=RANDOM_STATE, n_jobs=-1))\n",
    "    ])"
   ]
  },
  {
   "cell_type": "code",
   "execution_count": null,
   "metadata": {
    "execution": {
     "iopub.execute_input": "2024-01-15T13:47:07.718244Z",
     "iopub.status.busy": "2024-01-15T13:47:07.717852Z",
     "iopub.status.idle": "2024-01-15T13:47:20.201673Z",
     "shell.execute_reply": "2024-01-15T13:47:20.200721Z",
     "shell.execute_reply.started": "2024-01-15T13:47:07.718198Z"
    }
   },
   "outputs": [],
   "source": [
    "pipeline.fit(X_train, y_train)"
   ]
  },
  {
   "cell_type": "code",
   "execution_count": null,
   "metadata": {
    "execution": {
     "iopub.execute_input": "2024-01-15T13:47:20.203443Z",
     "iopub.status.busy": "2024-01-15T13:47:20.203191Z",
     "iopub.status.idle": "2024-01-15T13:47:20.560466Z",
     "shell.execute_reply": "2024-01-15T13:47:20.559728Z",
     "shell.execute_reply.started": "2024-01-15T13:47:20.203418Z"
    }
   },
   "outputs": [],
   "source": [
    "baseline_accuracy = pipeline.score(X_test, y_test)\n",
    "print(f'Accuracy score: {baseline_accuracy:.3}')"
   ]
  },
  {
   "cell_type": "markdown",
   "metadata": {},
   "source": [
    "# Model Selection and Hyperparameter Tuning"
   ]
  },
  {
   "cell_type": "markdown",
   "metadata": {},
   "source": [
    "Now that we have a baseline model, we can try different models and tune the hyperparameters to improve the model performance. We will use the Random Forest Classifier and GradientBoosting with the `RandomizedSearchCV` to tune the hyperparameters for each model."
   ]
  },
  {
   "cell_type": "code",
   "execution_count": null,
   "metadata": {
    "execution": {
     "iopub.execute_input": "2024-01-15T13:47:20.562353Z",
     "iopub.status.busy": "2024-01-15T13:47:20.561520Z",
     "iopub.status.idle": "2024-01-15T13:47:20.573035Z",
     "shell.execute_reply": "2024-01-15T13:47:20.572251Z",
     "shell.execute_reply.started": "2024-01-15T13:47:20.562325Z"
    }
   },
   "outputs": [],
   "source": [
    "search_space = [\n",
    "    {\n",
    "        'classifier': [RandomForestClassifier(random_state=RANDOM_STATE)],\n",
    "        'classifier__n_estimators': randint(50, 1000),\n",
    "        'classifier__max_depth': randint(3,50),\n",
    "        'classifier__min_samples_split': randint(2, 100),\n",
    "        'classifier__min_samples_leaf': randint(1, 50),\n",
    "        'classifier__max_features': ['sqrt', 'log2'],\n",
    "    },\n",
    "    {\n",
    "        'classifier': [GradientBoostingClassifier(random_state=RANDOM_STATE)],\n",
    "        'classifier__n_estimators': randint(50, 1000),\n",
    "        'classifier__learning_rate': uniform(0.01, 0.3),\n",
    "        'classifier__max_depth': randint(3,50),\n",
    "        'classifier__min_samples_split': randint(2, 100),  \n",
    "        'classifier__min_samples_leaf': randint(1, 50),\n",
    "        'classifier__max_features': ['sqrt', 'log2'],\n",
    "    }\n",
    "]"
   ]
  },
  {
   "cell_type": "code",
   "execution_count": null,
   "metadata": {
    "execution": {
     "iopub.execute_input": "2024-01-15T13:47:20.574805Z",
     "iopub.status.busy": "2024-01-15T13:47:20.573949Z",
     "iopub.status.idle": "2024-01-15T13:47:20.578780Z",
     "shell.execute_reply": "2024-01-15T13:47:20.578020Z",
     "shell.execute_reply.started": "2024-01-15T13:47:20.574778Z"
    }
   },
   "outputs": [],
   "source": [
    "random_search = RandomizedSearchCV(\n",
    "    pipeline, \n",
    "    search_space,\n",
    "    scoring='accuracy',\n",
    "    refit=True,\n",
    "    n_iter=1000,\n",
    "    cv=10, \n",
    "    verbose=1, \n",
    "    n_jobs=-1,\n",
    "    random_state=RANDOM_STATE\n",
    ")"
   ]
  },
  {
   "cell_type": "code",
   "execution_count": null,
   "metadata": {
    "execution": {
     "iopub.execute_input": "2024-01-15T13:47:20.579653Z",
     "iopub.status.busy": "2024-01-15T13:47:20.579425Z"
    }
   },
   "outputs": [],
   "source": [
    "random_search.fit(X_train, y_train)"
   ]
  },
  {
   "cell_type": "code",
   "execution_count": null,
   "metadata": {},
   "outputs": [],
   "source": [
    "best_estimator = random_search.best_estimator_\n",
    "print(best_estimator)"
   ]
  },
  {
   "cell_type": "code",
   "execution_count": null,
   "metadata": {},
   "outputs": [],
   "source": [
    "best_params = random_search.best_params_\n",
    "print(best_params)"
   ]
  },
  {
   "cell_type": "code",
   "execution_count": null,
   "metadata": {},
   "outputs": [],
   "source": [
    "random_search_accuracy = random_search.score(X_test, y_test)\n",
    "print(f'Accuracy score: {random_search_accuracy:.3}')"
   ]
  },
  {
   "cell_type": "code",
   "execution_count": null,
   "metadata": {},
   "outputs": [],
   "source": [
    "results_df = pd.DataFrame(random_search.cv_results_)\n",
    "results_df.sort_values(by='rank_test_score').head(10)"
   ]
  },
  {
   "cell_type": "code",
   "execution_count": null,
   "metadata": {},
   "outputs": [],
   "source": [
    "results_df.to_csv('results.csv', index=False)"
   ]
  },
  {
   "cell_type": "code",
   "execution_count": null,
   "metadata": {},
   "outputs": [],
   "source": [
    "pickle.dump(random_search, open('model.pkl', 'wb'))"
   ]
  }
 ],
 "metadata": {
  "kernelspec": {
   "display_name": "Python 3 (ipykernel)",
   "language": "python",
   "name": "python3"
  },
  "language_info": {
   "codemirror_mode": {
    "name": "ipython",
    "version": 3
   },
   "file_extension": ".py",
   "mimetype": "text/x-python",
   "name": "python",
   "nbconvert_exporter": "python",
   "pygments_lexer": "ipython3",
   "version": "3.11.7"
  }
 },
 "nbformat": 4,
 "nbformat_minor": 4
}
